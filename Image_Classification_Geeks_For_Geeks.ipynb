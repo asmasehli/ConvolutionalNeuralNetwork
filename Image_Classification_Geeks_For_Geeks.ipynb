{
 "cells": [
  {
   "cell_type": "code",
   "execution_count": 1,
   "metadata": {},
   "outputs": [
    {
     "name": "stderr",
     "output_type": "stream",
     "text": [
      "Using TensorFlow backend.\n"
     ]
    }
   ],
   "source": [
    "from keras.preprocessing.image import ImageDataGenerator\n",
    "from keras.models import Sequential\n",
    "from keras.layers import Conv2D, MaxPooling2D\n",
    "from keras.layers import Activation, Dropout, Flatten, Dense\n",
    "from keras import backend as K"
   ]
  },
  {
   "cell_type": "code",
   "execution_count": 2,
   "metadata": {},
   "outputs": [],
   "source": [
    "nb_train_samples=400\n",
    "nb_validation_samples=100\n",
    "epochs=10\n",
    "batch_size=16\n",
    "train_data_dir = 'F:/ML_test/deep/Image_classification_geeks_for_geeks/v_data/v_data/train'\n",
    "validation_data_dir = 'F:/ML_test/deep/Image_classification_geeks_for_geeks/v_data/v_data/test'"
   ]
  },
  {
   "cell_type": "code",
   "execution_count": 10,
   "metadata": {},
   "outputs": [],
   "source": [
    "img_width, img_height = 224, 224   \n",
    "      "
   ]
  },
  {
   "cell_type": "code",
   "execution_count": 13,
   "metadata": {},
   "outputs": [
    {
     "name": "stdout",
     "output_type": "stream",
     "text": [
      "Found 400 images belonging to 2 classes.\n",
      "Found 100 images belonging to 2 classes.\n",
      "Epoch 1/10\n",
      "25/25 [==============================] - 37s 1s/step - loss: 0.9870 - acc: 0.5950 - val_loss: 0.5366 - val_acc: 0.5833\n",
      "Epoch 2/10\n",
      "25/25 [==============================] - 7s 268ms/step - loss: 0.5555 - acc: 0.7500 - val_loss: 0.7548 - val_acc: 0.5833\n",
      "Epoch 3/10\n",
      "25/25 [==============================] - 9s 341ms/step - loss: 0.4922 - acc: 0.7925 - val_loss: 0.2742 - val_acc: 0.8929\n",
      "Epoch 4/10\n",
      "25/25 [==============================] - 8s 319ms/step - loss: 0.4169 - acc: 0.8375 - val_loss: 0.4345 - val_acc: 0.7976\n",
      "Epoch 5/10\n",
      "25/25 [==============================] - 8s 317ms/step - loss: 0.3832 - acc: 0.8425 - val_loss: 0.2760 - val_acc: 0.8929\n",
      "Epoch 6/10\n",
      "25/25 [==============================] - 8s 324ms/step - loss: 0.3484 - acc: 0.8450 - val_loss: 0.3090 - val_acc: 0.8690\n",
      "Epoch 7/10\n",
      "25/25 [==============================] - 8s 331ms/step - loss: 0.3435 - acc: 0.8675 - val_loss: 0.2679 - val_acc: 0.8690\n",
      "Epoch 8/10\n",
      "25/25 [==============================] - 9s 373ms/step - loss: 0.2930 - acc: 0.8750 - val_loss: 0.2799 - val_acc: 0.8750\n",
      "Epoch 9/10\n",
      "25/25 [==============================] - 8s 331ms/step - loss: 0.3631 - acc: 0.8625 - val_loss: 0.3175 - val_acc: 0.8571\n",
      "Epoch 10/10\n",
      "25/25 [==============================] - 8s 317ms/step - loss: 0.2546 - acc: 0.9000 - val_loss: 0.3561 - val_acc: 0.8095\n"
     ]
    }
   ],
   "source": [
    "if (K.image_data_format() =='channels_first'):\n",
    "    input_shape= (3,img_width,img_height)\n",
    "else:\n",
    "    input_shape = (img_width, img_height, 3)\n",
    "model= Sequential()\n",
    "\n",
    "model.add(Conv2D(32, (2,2), input_shape=input_shape))\n",
    "model.add(Activation('relu'))\n",
    "model.add(MaxPooling2D(pool_size=(2,2)))\n",
    "\n",
    "model.add(Conv2D(32, (2,2)))\n",
    "model.add(Activation('relu'))\n",
    "model.add(MaxPooling2D(pool_size=(2,2)))\n",
    "\n",
    "model.add(Conv2D(64, (2,2)))\n",
    "model.add(Activation('relu'))\n",
    "model.add(MaxPooling2D(pool_size=(2,2)))\n",
    "          \n",
    "model.add(Flatten())\n",
    "model.add(Dense(64))\n",
    "model.add(Activation('relu'))\n",
    "model.add(Dropout(0.5))\n",
    "model.add(Dense(1))\n",
    "model.add(Activation('sigmoid'))\n",
    "\n",
    "model.compile(loss='binary_crossentropy',\n",
    "             optimizer='rmsprop',\n",
    "             metrics=['accuracy'])          \n",
    "          \n",
    "train_datagen=ImageDataGenerator(\n",
    "rescale=1. /255,\n",
    "shear_range=0.2,\n",
    "zoom_range=0.2,\n",
    "horizontal_flip=True) \n",
    "          \n",
    "test_datagen= ImageDataGenerator(rescale=1. /255)\n",
    "          \n",
    "train_generator= train_datagen.flow_from_directory(\n",
    "train_data_dir,\n",
    "target_size=(img_width,img_height),\n",
    "batch_size=batch_size,\n",
    "class_mode='binary')\n",
    "          \n",
    "validation_generator= test_datagen.flow_from_directory(\n",
    "validation_data_dir,\n",
    "target_size=(img_width,img_height),\n",
    "batch_size=batch_size,\n",
    "class_mode='binary')\n",
    "          \n",
    "model.fit_generator( \n",
    "    train_generator, \n",
    "    steps_per_epoch=nb_train_samples // batch_size, \n",
    "    epochs=epochs, \n",
    "    validation_data=validation_generator, \n",
    "    validation_steps=nb_validation_samples // batch_size)           \n",
    "model.save_weights('model_saved.h5')           \n"
   ]
  },
  {
   "cell_type": "code",
   "execution_count": null,
   "metadata": {},
   "outputs": [],
   "source": []
  }
 ],
 "metadata": {
  "kernelspec": {
   "display_name": "Python 3",
   "language": "python",
   "name": "python3"
  },
  "language_info": {
   "codemirror_mode": {
    "name": "ipython",
    "version": 3
   },
   "file_extension": ".py",
   "mimetype": "text/x-python",
   "name": "python",
   "nbconvert_exporter": "python",
   "pygments_lexer": "ipython3",
   "version": "3.7.3"
  }
 },
 "nbformat": 4,
 "nbformat_minor": 2
}
